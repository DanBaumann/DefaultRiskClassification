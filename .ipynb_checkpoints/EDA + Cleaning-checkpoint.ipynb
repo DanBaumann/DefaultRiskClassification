{
 "cells": [
  {
   "cell_type": "markdown",
   "metadata": {},
   "source": [
    "# Mod 5 Project"
   ]
  },
  {
   "cell_type": "markdown",
   "metadata": {},
   "source": [
    "## 1. EDA"
   ]
  },
  {
   "cell_type": "code",
   "execution_count": 1,
   "metadata": {},
   "outputs": [],
   "source": [
    "import pandas as pd\n",
    "import matplotlib.pyplot as plt\n",
    "%matplotlib inline\n",
    "import seaborn as sns\n",
    "sns.set_style(\"darkgrid\", {\"axes.facecolor\": \".9\"})"
   ]
  },
  {
   "cell_type": "code",
   "execution_count": 2,
   "metadata": {},
   "outputs": [],
   "source": [
    "df = pd.read_excel('default of credit card clients.xls', skiprows = 1)"
   ]
  },
  {
   "cell_type": "markdown",
   "metadata": {},
   "source": [
    "|Name |\tDescription |\n",
    "|-----------|-------------|\n",
    "|ID\t|ID of each client|\n",
    "|limit_balance| \tAmount of given credit in NT dollars (includes individual and family/supplementary credit)|\n",
    "|sex|\tGender (1=male, 2=female)|\n",
    "|education|\t(1=graduate school, 2=university, 3=high school, 4=others, 5=unknown, 6=unknown)|\n",
    "|marriage\t|Marital status (1=married, 2=single, 3=others)|\n",
    "|age|\tAge in years|\n",
    "|pay_stat_sep|\tRepayment status in September, 2005 (-2=no consumption, -1=pay duly, 0=the use of revolving credit, 1=payment delay for one month, 2=payment delay for two months, … 8=payment delay for eight months, 9=payment delay for nine months and above)|\n",
    "|pay_stat_aug\t|Repayment status in August, 2005 (scale same as above)|\n",
    "|pay_stat_jul\t|Repayment status in July, 2005 (scale same as above)|\n",
    "|pay_stat_jun\t|Repayment status in June, 2005 (scale same as above)|\n",
    "|pay_stat_may\t|Repayment status in May, 2005 (scale same as above)|\n",
    "|pay_stat_apr\t|Repayment status in April, 2005 (scale same as above)|\n",
    "|bill_amt_sep\t|Amount of bill statement in September, 2005 (NT dollar)|\n",
    "|bill_amt_aug\t|Amount of bill statement in August, 2005 (NT dollar)|\n",
    "|bill_amt_jul\t|Amount of bill statement in July, 2005 (NT dollar)|\n",
    "|bill_amt_jun\t|Amount of bill statement in June, 2005 (NT dollar)|\n",
    "|bill_amt_may\t|Amount of bill statement in May, 2005 (NT dollar)|\n",
    "|bill_amt_apr\t|Amount of bill statement in April, 2005 (NT dollar)|\n",
    "|pay_amt_sep\t|Amount of previous payment in September, 2005 (NT dollar)|\n",
    "|pay_amt_aug\t|Amount of previous payment in August, 2005 (NT dollar)|\n",
    "|pay_amt_jul\t|Amount of previous payment in July, 2005 (NT dollar)|\n",
    "|pay_amt_jun\t|Amount of previous payment in June, 2005 (NT dollar)|\n",
    "|pay_amt_may\t|Amount of previous payment in May, 2005 (NT dollar)|\n",
    "|pay_amt_apr\t|Amount of previous payment in April, 2005 (NT dollar)|\n",
    "|default_next_month\t|Default payment (1=yes, 0=no)|"
   ]
  },
  {
   "cell_type": "code",
   "execution_count": 3,
   "metadata": {},
   "outputs": [
    {
     "data": {
      "text/html": [
       "<div>\n",
       "<style scoped>\n",
       "    .dataframe tbody tr th:only-of-type {\n",
       "        vertical-align: middle;\n",
       "    }\n",
       "\n",
       "    .dataframe tbody tr th {\n",
       "        vertical-align: top;\n",
       "    }\n",
       "\n",
       "    .dataframe thead th {\n",
       "        text-align: right;\n",
       "    }\n",
       "</style>\n",
       "<table border=\"1\" class=\"dataframe\">\n",
       "  <thead>\n",
       "    <tr style=\"text-align: right;\">\n",
       "      <th></th>\n",
       "      <th>ID</th>\n",
       "      <th>LIMIT_BAL</th>\n",
       "      <th>SEX</th>\n",
       "      <th>EDUCATION</th>\n",
       "      <th>MARRIAGE</th>\n",
       "      <th>AGE</th>\n",
       "      <th>PAY_0</th>\n",
       "      <th>PAY_2</th>\n",
       "      <th>PAY_3</th>\n",
       "      <th>PAY_4</th>\n",
       "      <th>...</th>\n",
       "      <th>BILL_AMT4</th>\n",
       "      <th>BILL_AMT5</th>\n",
       "      <th>BILL_AMT6</th>\n",
       "      <th>PAY_AMT1</th>\n",
       "      <th>PAY_AMT2</th>\n",
       "      <th>PAY_AMT3</th>\n",
       "      <th>PAY_AMT4</th>\n",
       "      <th>PAY_AMT5</th>\n",
       "      <th>PAY_AMT6</th>\n",
       "      <th>default payment next month</th>\n",
       "    </tr>\n",
       "  </thead>\n",
       "  <tbody>\n",
       "    <tr>\n",
       "      <td>0</td>\n",
       "      <td>1</td>\n",
       "      <td>20000</td>\n",
       "      <td>2</td>\n",
       "      <td>2</td>\n",
       "      <td>1</td>\n",
       "      <td>24</td>\n",
       "      <td>2</td>\n",
       "      <td>2</td>\n",
       "      <td>-1</td>\n",
       "      <td>-1</td>\n",
       "      <td>...</td>\n",
       "      <td>0</td>\n",
       "      <td>0</td>\n",
       "      <td>0</td>\n",
       "      <td>0</td>\n",
       "      <td>689</td>\n",
       "      <td>0</td>\n",
       "      <td>0</td>\n",
       "      <td>0</td>\n",
       "      <td>0</td>\n",
       "      <td>1</td>\n",
       "    </tr>\n",
       "    <tr>\n",
       "      <td>1</td>\n",
       "      <td>2</td>\n",
       "      <td>120000</td>\n",
       "      <td>2</td>\n",
       "      <td>2</td>\n",
       "      <td>2</td>\n",
       "      <td>26</td>\n",
       "      <td>-1</td>\n",
       "      <td>2</td>\n",
       "      <td>0</td>\n",
       "      <td>0</td>\n",
       "      <td>...</td>\n",
       "      <td>3272</td>\n",
       "      <td>3455</td>\n",
       "      <td>3261</td>\n",
       "      <td>0</td>\n",
       "      <td>1000</td>\n",
       "      <td>1000</td>\n",
       "      <td>1000</td>\n",
       "      <td>0</td>\n",
       "      <td>2000</td>\n",
       "      <td>1</td>\n",
       "    </tr>\n",
       "    <tr>\n",
       "      <td>2</td>\n",
       "      <td>3</td>\n",
       "      <td>90000</td>\n",
       "      <td>2</td>\n",
       "      <td>2</td>\n",
       "      <td>2</td>\n",
       "      <td>34</td>\n",
       "      <td>0</td>\n",
       "      <td>0</td>\n",
       "      <td>0</td>\n",
       "      <td>0</td>\n",
       "      <td>...</td>\n",
       "      <td>14331</td>\n",
       "      <td>14948</td>\n",
       "      <td>15549</td>\n",
       "      <td>1518</td>\n",
       "      <td>1500</td>\n",
       "      <td>1000</td>\n",
       "      <td>1000</td>\n",
       "      <td>1000</td>\n",
       "      <td>5000</td>\n",
       "      <td>0</td>\n",
       "    </tr>\n",
       "    <tr>\n",
       "      <td>3</td>\n",
       "      <td>4</td>\n",
       "      <td>50000</td>\n",
       "      <td>2</td>\n",
       "      <td>2</td>\n",
       "      <td>1</td>\n",
       "      <td>37</td>\n",
       "      <td>0</td>\n",
       "      <td>0</td>\n",
       "      <td>0</td>\n",
       "      <td>0</td>\n",
       "      <td>...</td>\n",
       "      <td>28314</td>\n",
       "      <td>28959</td>\n",
       "      <td>29547</td>\n",
       "      <td>2000</td>\n",
       "      <td>2019</td>\n",
       "      <td>1200</td>\n",
       "      <td>1100</td>\n",
       "      <td>1069</td>\n",
       "      <td>1000</td>\n",
       "      <td>0</td>\n",
       "    </tr>\n",
       "    <tr>\n",
       "      <td>4</td>\n",
       "      <td>5</td>\n",
       "      <td>50000</td>\n",
       "      <td>1</td>\n",
       "      <td>2</td>\n",
       "      <td>1</td>\n",
       "      <td>57</td>\n",
       "      <td>-1</td>\n",
       "      <td>0</td>\n",
       "      <td>-1</td>\n",
       "      <td>0</td>\n",
       "      <td>...</td>\n",
       "      <td>20940</td>\n",
       "      <td>19146</td>\n",
       "      <td>19131</td>\n",
       "      <td>2000</td>\n",
       "      <td>36681</td>\n",
       "      <td>10000</td>\n",
       "      <td>9000</td>\n",
       "      <td>689</td>\n",
       "      <td>679</td>\n",
       "      <td>0</td>\n",
       "    </tr>\n",
       "  </tbody>\n",
       "</table>\n",
       "<p>5 rows × 25 columns</p>\n",
       "</div>"
      ],
      "text/plain": [
       "   ID  LIMIT_BAL  SEX  EDUCATION  MARRIAGE  AGE  PAY_0  PAY_2  PAY_3  PAY_4  \\\n",
       "0   1      20000    2          2         1   24      2      2     -1     -1   \n",
       "1   2     120000    2          2         2   26     -1      2      0      0   \n",
       "2   3      90000    2          2         2   34      0      0      0      0   \n",
       "3   4      50000    2          2         1   37      0      0      0      0   \n",
       "4   5      50000    1          2         1   57     -1      0     -1      0   \n",
       "\n",
       "   ...  BILL_AMT4  BILL_AMT5  BILL_AMT6  PAY_AMT1  PAY_AMT2  PAY_AMT3  \\\n",
       "0  ...          0          0          0         0       689         0   \n",
       "1  ...       3272       3455       3261         0      1000      1000   \n",
       "2  ...      14331      14948      15549      1518      1500      1000   \n",
       "3  ...      28314      28959      29547      2000      2019      1200   \n",
       "4  ...      20940      19146      19131      2000     36681     10000   \n",
       "\n",
       "   PAY_AMT4  PAY_AMT5  PAY_AMT6  default payment next month  \n",
       "0         0         0         0                           1  \n",
       "1      1000         0      2000                           1  \n",
       "2      1000      1000      5000                           0  \n",
       "3      1100      1069      1000                           0  \n",
       "4      9000       689       679                           0  \n",
       "\n",
       "[5 rows x 25 columns]"
      ]
     },
     "execution_count": 3,
     "metadata": {},
     "output_type": "execute_result"
    }
   ],
   "source": [
    "df.head()"
   ]
  },
  {
   "cell_type": "code",
   "execution_count": 4,
   "metadata": {},
   "outputs": [],
   "source": [
    "new_column_names = ['ID', 'limit_balance', 'sex', 'education', 'marriage', 'age', 'pay_status_sep', \n",
    "                   'pay_status_aug', 'pay_status_jul', 'pay_status_jun', 'pay_status_may',\n",
    "                   'pay_status_apr', 'bill_amt_sep', 'bill_amt_aug', 'bill_amt_jul', 'bill_amt_jun',\n",
    "                   'bill_amt_may', 'bill_amt_apr', 'pay_amt_sep', 'pay_amt_aug', 'pay_amt_jul',\n",
    "                    'pay_amt_jun', 'pay_amt_may', 'pay_amt_apr', 'default_next_month']\n",
    "\n",
    "df.columns = new_column_names"
   ]
  },
  {
   "cell_type": "code",
   "execution_count": 5,
   "metadata": {},
   "outputs": [],
   "source": [
    "df.drop(columns = 'ID', inplace = True)"
   ]
  },
  {
   "cell_type": "code",
   "execution_count": 6,
   "metadata": {},
   "outputs": [
    {
     "name": "stdout",
     "output_type": "stream",
     "text": [
      "<class 'pandas.core.frame.DataFrame'>\n",
      "RangeIndex: 30000 entries, 0 to 29999\n",
      "Data columns (total 24 columns):\n",
      "limit_balance         30000 non-null int64\n",
      "sex                   30000 non-null int64\n",
      "education             30000 non-null int64\n",
      "marriage              30000 non-null int64\n",
      "age                   30000 non-null int64\n",
      "pay_status_sep        30000 non-null int64\n",
      "pay_status_aug        30000 non-null int64\n",
      "pay_status_jul        30000 non-null int64\n",
      "pay_status_jun        30000 non-null int64\n",
      "pay_status_may        30000 non-null int64\n",
      "pay_status_apr        30000 non-null int64\n",
      "bill_amt_sep          30000 non-null int64\n",
      "bill_amt_aug          30000 non-null int64\n",
      "bill_amt_jul          30000 non-null int64\n",
      "bill_amt_jun          30000 non-null int64\n",
      "bill_amt_may          30000 non-null int64\n",
      "bill_amt_apr          30000 non-null int64\n",
      "pay_amt_sep           30000 non-null int64\n",
      "pay_amt_aug           30000 non-null int64\n",
      "pay_amt_jul           30000 non-null int64\n",
      "pay_amt_jun           30000 non-null int64\n",
      "pay_amt_may           30000 non-null int64\n",
      "pay_amt_apr           30000 non-null int64\n",
      "default_next_month    30000 non-null int64\n",
      "dtypes: int64(24)\n",
      "memory usage: 5.5 MB\n"
     ]
    }
   ],
   "source": [
    "df.info()"
   ]
  },
  {
   "cell_type": "markdown",
   "metadata": {},
   "source": [
    "## Inspecting Each Category"
   ]
  },
  {
   "cell_type": "markdown",
   "metadata": {},
   "source": [
    "### 1.1 Limit Balance"
   ]
  },
  {
   "cell_type": "code",
   "execution_count": 7,
   "metadata": {},
   "outputs": [
    {
     "data": {
      "text/plain": [
       "count      30000.000000\n",
       "mean      167484.322667\n",
       "std       129747.661567\n",
       "min        10000.000000\n",
       "25%        50000.000000\n",
       "50%       140000.000000\n",
       "75%       240000.000000\n",
       "max      1000000.000000\n",
       "Name: limit_balance, dtype: float64"
      ]
     },
     "metadata": {},
     "output_type": "display_data"
    },
    {
     "data": {
      "text/plain": [
       "<matplotlib.axes._subplots.AxesSubplot at 0x1a1a850358>"
      ]
     },
     "execution_count": 7,
     "metadata": {},
     "output_type": "execute_result"
    },
    {
     "data": {
      "image/png": "[encoded data removed]",
      "text/plain": [
       "<Figure size 432x288 with 1 Axes>"
      ]
     },
     "metadata": {
      "needs_background": "light"
     },
     "output_type": "display_data"
    }
   ],
   "source": [
    "display(df.limit_balance.describe())\n",
    "sns.distplot(df.limit_balance)"
   ]
  },
  {
   "cell_type": "markdown",
   "metadata": {},
   "source": [
    "#### 1.1.1 How limit balance differs for defaulters vs non defaulters"
   ]
  },
  {
   "cell_type": "code",
   "execution_count": 8,
   "metadata": {},
   "outputs": [
    {
     "data": {
      "image/png": "[encoded data removed]",
      "text/plain": [
       "<Figure size 1008x432 with 1 Axes>"
      ]
     },
     "metadata": {
      "needs_background": "light"
     },
     "output_type": "display_data"
    }
   ],
   "source": [
    "no_def_limit_bal = df.loc[df['default_next_month'] == 0][\"limit_balance\"]\n",
    "def_limit_bal = df.loc[df['default_next_month'] == 1][\"limit_balance\"]\n",
    "plt.figure(figsize = (14,6))\n",
    "plt.title('Default amount of credit limit')\n",
    "sns.set_color_codes(\"pastel\")\n",
    "sns.distplot(def_limit_bal,kde=True,bins=20, color=\"red\", label = 'Credit Limit for Defaulters')\n",
    "sns.distplot(no_def_limit_bal,kde=True,bins=20, color=\"green\", label = 'Credit Limit for Non-Defaulters')\n",
    "plt.legend()\n",
    "plt.show();\n",
    "# those who default appear to be more densely populated at lower credit limits\n"
   ]
  },
  {
   "cell_type": "markdown",
   "metadata": {},
   "source": [
    "### 1.2 Sex"
   ]
  },
  {
   "cell_type": "code",
   "execution_count": 9,
   "metadata": {},
   "outputs": [
    {
     "data": {
      "text/plain": [
       "2    18112\n",
       "1    11888\n",
       "Name: sex, dtype: int64"
      ]
     },
     "metadata": {},
     "output_type": "display_data"
    },
    {
     "name": "stdout",
     "output_type": "stream",
     "text": [
      "The dataset consists of 60.37% male and 39.63% female\n"
     ]
    }
   ],
   "source": [
    "display(df.sex.value_counts())\n",
    "\n",
    "demo = list((df.sex.value_counts(normalize = True)))\n",
    "print('The dataset consists of {}% male and {}% female'.format(round(100*demo[0], 2), round(100*demo[1], 2)))\n",
    "\n",
    "df.sex.replace({2: 'female', 1: 'male'}, inplace = True)\n",
    "\n",
    "# Everything seems to be in order with sex. more females\n",
    "# Could correct for the imbalance with synthetic minority oversampling technique"
   ]
  },
  {
   "cell_type": "markdown",
   "metadata": {},
   "source": [
    "#### 1.2.1 Does default risk differ amongst genders?"
   ]
  },
  {
   "cell_type": "code",
   "execution_count": 10,
   "metadata": {},
   "outputs": [
    {
     "name": "stdout",
     "output_type": "stream",
     "text": [
      "Male default rate is 0.24 \n",
      "\n",
      "Female default rate is 0.21\n"
     ]
    }
   ],
   "source": [
    "fem_def_perc = (len((df.loc[(df['sex'] == 'female') & (df['default_next_month'] == 1)]))/(len(df.loc[df['sex'] == 'female'])))\n",
    "mal_def_perc = (len((df.loc[(df['sex'] == 'male') & (df['default_next_month'] == 1)]))/(len(df.loc[df['sex'] == 'male'])))\n",
    "\n",
    "print(\"Male default rate is {}\".format(round(mal_def_perc, 2)), '\\n\\n'\n",
    "      \"Female default rate is {}\".format(round(fem_def_perc, 2)))"
   ]
  },
  {
   "cell_type": "code",
   "execution_count": 11,
   "metadata": {},
   "outputs": [],
   "source": [
    "# visualising this with a bar chart\n",
    "fem_default = df.loc[(df['sex'] == 'female') & (df['default_next_month'] == 1)]\n",
    "fem_df = df.loc[df['sex'] == 'female']\n",
    "\n",
    "mal_default = df.loc[(df['sex'] == 'male') & (df['default_next_month'] == 1)]\n",
    "fem_df = df.loc[df['sex'] == 'male']\n",
    "\n",
    "\n",
    "\n"
   ]
  },
  {
   "cell_type": "code",
   "execution_count": 12,
   "metadata": {},
   "outputs": [],
   "source": [
    "# Getting dummies for sex\n",
    "df = pd.get_dummies(df, columns = ['sex'])"
   ]
  },
  {
   "cell_type": "markdown",
   "metadata": {},
   "source": [
    "### 1.3 Education"
   ]
  },
  {
   "cell_type": "code",
   "execution_count": 13,
   "metadata": {},
   "outputs": [
    {
     "data": {
      "text/plain": [
       "2    14030\n",
       "1    10585\n",
       "3     4917\n",
       "5      280\n",
       "4      123\n",
       "6       51\n",
       "0       14\n",
       "Name: education, dtype: int64"
      ]
     },
     "metadata": {},
     "output_type": "display_data"
    },
    {
     "name": "stdout",
     "output_type": "stream",
     "text": [
      "Median level of education is 2\n"
     ]
    },
    {
     "data": {
      "text/plain": [
       "2    14375\n",
       "1    10585\n",
       "3     4917\n",
       "4      123\n",
       "Name: education, dtype: int64"
      ]
     },
     "execution_count": 13,
     "metadata": {},
     "output_type": "execute_result"
    }
   ],
   "source": [
    "display(df.education.value_counts())\n",
    "# seems to be education values that are outside the domain of the description\n",
    "# 5,6 are not defined. Will change these values to graduate school on the assumption that higher numbers\n",
    "# mean more education.\n",
    "# changing the non-defined education values to median value of 2 meaning university\n",
    "median_edu = int(df.education.median())\n",
    "print(\"Median level of education is {}\".format(median_edu))\n",
    "\n",
    "df.education.replace({5: median_edu, 6:median_edu, 0:median_edu}, inplace = True)\n",
    "\n",
    "df.education.value_counts()"
   ]
  },
  {
   "cell_type": "markdown",
   "metadata": {},
   "source": [
    "#### 1.3.1 Does default rate differ by education level?"
   ]
  },
  {
   "cell_type": "code",
   "execution_count": 14,
   "metadata": {},
   "outputs": [
    {
     "data": {
      "image/png": "[encoded data removed]",
      "text/plain": [
       "<Figure size 432x288 with 1 Axes>"
      ]
     },
     "metadata": {
      "needs_background": "light"
     },
     "output_type": "display_data"
    }
   ],
   "source": [
    "sns.barplot(x=\"education\", y = 'default_next_month', data = df)\n",
    "plt.xlabel('Level of Education')\n",
    "plt.ylabel('Probability of Default')\n",
    "plt.title(\"Probability of Default by Education Level\");"
   ]
  },
  {
   "cell_type": "code",
   "execution_count": 15,
   "metadata": {},
   "outputs": [
    {
     "data": {
      "image/png": "[encoded data removed]",
      "text/plain": [
       "<Figure size 432x288 with 1 Axes>"
      ]
     },
     "metadata": {
      "needs_background": "light"
     },
     "output_type": "display_data"
    }
   ],
   "source": [
    "education_groupby = pd.DataFrame(df.groupby(['education', 'default_next_month']).size().unstack())\n",
    "education_groupby.plot(kind = 'bar', color = 'rg');"
   ]
  },
  {
   "cell_type": "code",
   "execution_count": 16,
   "metadata": {},
   "outputs": [],
   "source": [
    "# it appears that the probability of default is highest among university graduates,\n",
    "# and lowest amongst graduate education"
   ]
  },
  {
   "cell_type": "code",
   "execution_count": 17,
   "metadata": {},
   "outputs": [],
   "source": [
    "# Converting education to a dummy variable\n",
    "df = pd.get_dummies(df, columns = ['education'])"
   ]
  },
  {
   "cell_type": "markdown",
   "metadata": {},
   "source": [
    "### 1.4 Marriage"
   ]
  },
  {
   "cell_type": "code",
   "execution_count": 18,
   "metadata": {},
   "outputs": [
    {
     "data": {
      "text/plain": [
       "2    15964\n",
       "1    13659\n",
       "3      323\n",
       "0       54\n",
       "Name: marriage, dtype: int64"
      ]
     },
     "metadata": {},
     "output_type": "display_data"
    },
    {
     "data": {
      "text/plain": [
       "2    15964\n",
       "1    13659\n",
       "3      377\n",
       "Name: marriage, dtype: int64"
      ]
     },
     "metadata": {},
     "output_type": "display_data"
    }
   ],
   "source": [
    "display(df.marriage.value_counts())\n",
    "# seems to be 54 0 values, will change these to 3 (others)\n",
    "df.marriage.replace({0:3}, inplace = True)\n",
    "display(df.marriage.value_counts())"
   ]
  },
  {
   "cell_type": "markdown",
   "metadata": {},
   "source": [
    "#### 1.4.1 Does default risk differ amongst married people"
   ]
  },
  {
   "cell_type": "code",
   "execution_count": 19,
   "metadata": {},
   "outputs": [
    {
     "data": {
      "image/png": "[encoded data removed]",
      "text/plain": [
       "<Figure size 432x288 with 1 Axes>"
      ]
     },
     "metadata": {
      "needs_background": "light"
     },
     "output_type": "display_data"
    }
   ],
   "source": [
    "marriage_groupby = pd.DataFrame(df.groupby(['marriage', 'default_next_month']).size().unstack())\n",
    "marriage_groupby.plot(kind = 'bar', color = 'rg');\n",
    "\n"
   ]
  },
  {
   "cell_type": "code",
   "execution_count": 20,
   "metadata": {},
   "outputs": [],
   "source": [
    "# getting dummies for marriage\n",
    "df = pd.get_dummies(df, columns = ['marriage'])"
   ]
  },
  {
   "cell_type": "markdown",
   "metadata": {},
   "source": [
    "### 5. Age"
   ]
  },
  {
   "cell_type": "code",
   "execution_count": 21,
   "metadata": {
    "scrolled": true
   },
   "outputs": [
    {
     "data": {
      "image/png": "[encoded data removed]",
      "text/plain": [
       "<Figure size 720x432 with 1 Axes>"
      ]
     },
     "metadata": {
      "needs_background": "light"
     },
     "output_type": "display_data"
    }
   ],
   "source": [
    "plt.figure(figsize = (10, 6))\n",
    "sns.distplot(df.loc[df['default_next_month'] == 1].age, bins = 20, color = 'r')\n",
    "sns.distplot(df.age, bins = 20, label = 'Distribution of Ages', color = 'g')\n",
    "plt.title('Ages')\n",
    "plt.legend()\n",
    "plt.show();"
   ]
  },
  {
   "cell_type": "code",
   "execution_count": 22,
   "metadata": {},
   "outputs": [
    {
     "data": {
      "text/plain": [
       "<Figure size 432x1440 with 0 Axes>"
      ]
     },
     "metadata": {},
     "output_type": "display_data"
    },
    {
     "data": {
      "image/png": "[encoded data removed]",
      "text/plain": [
       "<Figure size 1440x432 with 1 Axes>"
      ]
     },
     "metadata": {
      "needs_background": "light"
     },
     "output_type": "display_data"
    }
   ],
   "source": [
    "plt.figure(figsize = (6,20))\n",
    "age_groupby = pd.DataFrame(df.groupby(['age', 'default_next_month']).size().unstack())\n",
    "age_groupby.plot(kind = 'bar', color = 'rg', figsize = (20,6));"
   ]
  },
  {
   "cell_type": "code",
   "execution_count": 23,
   "metadata": {},
   "outputs": [],
   "source": [
    "# young people and middle age tend to default a lot"
   ]
  },
  {
   "cell_type": "markdown",
   "metadata": {},
   "source": [
    "#### 5.1 Does Credit Default Risk differ amongst ages?"
   ]
  },
  {
   "cell_type": "code",
   "execution_count": 24,
   "metadata": {},
   "outputs": [],
   "source": [
    "# Looks like the distribution plots are very similar, perhaps, slightly higher probability of default as \n",
    "# individuals get older than 42, and lower probability of default between ages 25-40\n",
    "# this could be a reason to use bins for age, and use it as categorical?"
   ]
  },
  {
   "cell_type": "markdown",
   "metadata": {},
   "source": [
    "### 6. Target Variable: Default_next_month"
   ]
  },
  {
   "cell_type": "code",
   "execution_count": 25,
   "metadata": {},
   "outputs": [
    {
     "name": "stdout",
     "output_type": "stream",
     "text": [
      "Total amount of people that have defaulted: 6636 \n",
      "\n",
      " Total amount of people that have not defaulted: 23364\n"
     ]
    }
   ],
   "source": [
    "no_default, default = list(df.default_next_month.value_counts())\n",
    "print(\"Total amount of people that have defaulted: {}\".format(default),'\\n\\n',\n",
    "      \"Total amount of people that have not defaulted: {}\".format(no_default))\n",
    "# seems to be a large class imbalanace here, will have to use sampling techniques to correct for this"
   ]
  },
  {
   "cell_type": "markdown",
   "metadata": {},
   "source": [
    "## Inspecting Feature Correlation"
   ]
  },
  {
   "cell_type": "markdown",
   "metadata": {},
   "source": [
    "### 1. Pay Status"
   ]
  },
  {
   "cell_type": "code",
   "execution_count": 26,
   "metadata": {},
   "outputs": [
    {
     "data": {
      "image/png": "[encoded data removed]",
      "text/plain": [
       "<Figure size 576x576 with 2 Axes>"
      ]
     },
     "metadata": {
      "needs_background": "light"
     },
     "output_type": "display_data"
    }
   ],
   "source": [
    "var = df.columns[6:12]\n",
    "\n",
    "plt.figure(figsize = (8,8))\n",
    "plt.title('Repayment status (April-September) \\ncorrelation matrix (Pearson)')\n",
    "corr = df[var].corr()\n",
    "cmap = sns.color_palette(\"YlGnBu\")\n",
    "sns.heatmap(corr,xticklabels=corr.columns,yticklabels=corr.columns,linewidths=.1, cmap=cmap)\n",
    "plt.show()\n",
    "# Correlation seems to be falling the further away months are\n",
    "# payment status in september is highly correlated to august\n",
    "# but correlation falls when looking at september to april"
   ]
  },
  {
   "cell_type": "code",
   "execution_count": 27,
   "metadata": {},
   "outputs": [
    {
     "data": {
      "text/html": [
       "<div>\n",
       "<style scoped>\n",
       "    .dataframe tbody tr th:only-of-type {\n",
       "        vertical-align: middle;\n",
       "    }\n",
       "\n",
       "    .dataframe tbody tr th {\n",
       "        vertical-align: top;\n",
       "    }\n",
       "\n",
       "    .dataframe thead th {\n",
       "        text-align: right;\n",
       "    }\n",
       "</style>\n",
       "<table border=\"1\" class=\"dataframe\">\n",
       "  <thead>\n",
       "    <tr style=\"text-align: right;\">\n",
       "      <th></th>\n",
       "      <th>limit_balance</th>\n",
       "      <th>age</th>\n",
       "      <th>bill_amt_sep</th>\n",
       "      <th>bill_amt_aug</th>\n",
       "      <th>bill_amt_jul</th>\n",
       "      <th>bill_amt_jun</th>\n",
       "      <th>bill_amt_may</th>\n",
       "      <th>bill_amt_apr</th>\n",
       "      <th>pay_amt_sep</th>\n",
       "      <th>pay_amt_aug</th>\n",
       "      <th>...</th>\n",
       "      <th>pay_status_apr_-2</th>\n",
       "      <th>pay_status_apr_-1</th>\n",
       "      <th>pay_status_apr_0</th>\n",
       "      <th>pay_status_apr_2</th>\n",
       "      <th>pay_status_apr_3</th>\n",
       "      <th>pay_status_apr_4</th>\n",
       "      <th>pay_status_apr_5</th>\n",
       "      <th>pay_status_apr_6</th>\n",
       "      <th>pay_status_apr_7</th>\n",
       "      <th>pay_status_apr_8</th>\n",
       "    </tr>\n",
       "  </thead>\n",
       "  <tbody>\n",
       "    <tr>\n",
       "      <td>0</td>\n",
       "      <td>20000</td>\n",
       "      <td>24</td>\n",
       "      <td>3913</td>\n",
       "      <td>3102</td>\n",
       "      <td>689</td>\n",
       "      <td>0</td>\n",
       "      <td>0</td>\n",
       "      <td>0</td>\n",
       "      <td>0</td>\n",
       "      <td>689</td>\n",
       "      <td>...</td>\n",
       "      <td>1</td>\n",
       "      <td>0</td>\n",
       "      <td>0</td>\n",
       "      <td>0</td>\n",
       "      <td>0</td>\n",
       "      <td>0</td>\n",
       "      <td>0</td>\n",
       "      <td>0</td>\n",
       "      <td>0</td>\n",
       "      <td>0</td>\n",
       "    </tr>\n",
       "  </tbody>\n",
       "</table>\n",
       "<p>1 rows × 88 columns</p>\n",
       "</div>"
      ],
      "text/plain": [
       "   limit_balance  age  bill_amt_sep  bill_amt_aug  bill_amt_jul  bill_amt_jun  \\\n",
       "0          20000   24          3913          3102           689             0   \n",
       "\n",
       "   bill_amt_may  bill_amt_apr  pay_amt_sep  pay_amt_aug  ...  \\\n",
       "0             0             0            0          689  ...   \n",
       "\n",
       "   pay_status_apr_-2  pay_status_apr_-1  pay_status_apr_0  pay_status_apr_2  \\\n",
       "0                  1                  0                 0                 0   \n",
       "\n",
       "   pay_status_apr_3  pay_status_apr_4  pay_status_apr_5  pay_status_apr_6  \\\n",
       "0                 0                 0                 0                 0   \n",
       "\n",
       "   pay_status_apr_7  pay_status_apr_8  \n",
       "0                 0                 0  \n",
       "\n",
       "[1 rows x 88 columns]"
      ]
     },
     "execution_count": 27,
     "metadata": {},
     "output_type": "execute_result"
    }
   ],
   "source": [
    "# Changing pay status to dummy variables\n",
    "features = ['pay_status_sep', 'pay_status_aug', 'pay_status_jul', 'pay_status_jun', 'pay_status_may',\n",
    "            'pay_status_apr']\n",
    "df = pd.get_dummies(df, columns = features)\n",
    "df.head(1)"
   ]
  },
  {
   "cell_type": "code",
   "execution_count": 28,
   "metadata": {},
   "outputs": [],
   "source": [
    "# now have 83 columns after getting dummies for payment status"
   ]
  },
  {
   "cell_type": "markdown",
   "metadata": {},
   "source": [
    "### 2. Bill Amount"
   ]
  },
  {
   "cell_type": "code",
   "execution_count": 29,
   "metadata": {},
   "outputs": [
    {
     "data": {
      "image/png": "[encoded data removed]",
      "text/plain": [
       "<Figure size 576x576 with 2 Axes>"
      ]
     },
     "metadata": {
      "needs_background": "light"
     },
     "output_type": "display_data"
    }
   ],
   "source": [
    "var = df.columns[6:12]\n",
    "\n",
    "plt.figure(figsize = (8,8))\n",
    "plt.title('Bill Amount (April-September) \\ncorrelation matrix (Pearson)')\n",
    "corr = df[var].corr()\n",
    "cmap = sns.color_palette(\"YlGnBu\")\n",
    "sns.heatmap(corr,xticklabels=corr.columns,yticklabels=corr.columns,linewidths=.1, cmap=cmap)\n",
    "plt.show();\n",
    "# Again, high correlation for months that are close to one another\n"
   ]
  },
  {
   "cell_type": "markdown",
   "metadata": {},
   "source": [
    "### 3. Pay Amount"
   ]
  },
  {
   "cell_type": "code",
   "execution_count": 30,
   "metadata": {},
   "outputs": [
    {
     "data": {
      "image/png": "[encoded data removed]",
      "text/plain": [
       "<Figure size 576x576 with 2 Axes>"
      ]
     },
     "metadata": {
      "needs_background": "light"
     },
     "output_type": "display_data"
    }
   ],
   "source": [
    "var = df.columns[12:18]\n",
    "\n",
    "plt.figure(figsize = (8,8))\n",
    "plt.title('Pay Amount (April-September) \\ncorrelation matrix (Pearson)')\n",
    "corr = df[var].corr()\n",
    "cmap = sns.color_palette(\"YlGnBu\")\n",
    "sns.heatmap(corr,xticklabels=corr.columns,yticklabels=corr.columns,linewidths=.1, cmap=cmap)\n",
    "plt.show()\n",
    "# Very low correlation between payment amounts across months"
   ]
  },
  {
   "cell_type": "markdown",
   "metadata": {},
   "source": [
    "### Reducing Computational Power "
   ]
  },
  {
   "cell_type": "code",
   "execution_count": 42,
   "metadata": {},
   "outputs": [],
   "source": [
    "# struggling to fit some models due to so many columns, \n",
    "for col in df.columns:\n",
    "    if 'jul' in col:\n",
    "        del df[col]\n",
    "    elif 'jun' in col:\n",
    "        del df[col]\n",
    "    elif 'may' in col:\n",
    "        del df[col]\n",
    "    elif 'apr' in col:\n",
    "        del df[col]"
   ]
  },
  {
   "cell_type": "code",
   "execution_count": 43,
   "metadata": {},
   "outputs": [
    {
     "data": {
      "text/plain": [
       "(30000, 38)"
      ]
     },
     "execution_count": 43,
     "metadata": {},
     "output_type": "execute_result"
    }
   ],
   "source": [
    "df.shape"
   ]
  },
  {
   "cell_type": "code",
   "execution_count": 44,
   "metadata": {},
   "outputs": [
    {
     "data": {
      "text/plain": [
       "Index(['limit_balance', 'age', 'bill_amt_sep', 'bill_amt_aug', 'pay_amt_sep',\n",
       "       'pay_amt_aug', 'default_next_month', 'sex_female', 'sex_male',\n",
       "       'education_1', 'education_2', 'education_3', 'education_4',\n",
       "       'marriage_1', 'marriage_2', 'marriage_3', 'pay_status_sep_-2',\n",
       "       'pay_status_sep_-1', 'pay_status_sep_0', 'pay_status_sep_1',\n",
       "       'pay_status_sep_2', 'pay_status_sep_3', 'pay_status_sep_4',\n",
       "       'pay_status_sep_5', 'pay_status_sep_6', 'pay_status_sep_7',\n",
       "       'pay_status_sep_8', 'pay_status_aug_-2', 'pay_status_aug_-1',\n",
       "       'pay_status_aug_0', 'pay_status_aug_1', 'pay_status_aug_2',\n",
       "       'pay_status_aug_3', 'pay_status_aug_4', 'pay_status_aug_5',\n",
       "       'pay_status_aug_6', 'pay_status_aug_7', 'pay_status_aug_8'],\n",
       "      dtype='object')"
      ]
     },
     "execution_count": 44,
     "metadata": {},
     "output_type": "execute_result"
    }
   ],
   "source": [
    "df.columns"
   ]
  },
  {
   "cell_type": "code",
   "execution_count": 45,
   "metadata": {},
   "outputs": [],
   "source": [
    "df.to_csv('final.csv')"
   ]
  },
  {
   "cell_type": "code",
   "execution_count": null,
   "metadata": {},
   "outputs": [],
   "source": []
  },
  {
   "cell_type": "code",
   "execution_count": null,
   "metadata": {},
   "outputs": [],
   "source": []
  }
 ],
 "metadata": {
  "kernelspec": {
   "display_name": "Python 3",
   "language": "python",
   "name": "python3"
  },
  "language_info": {
   "codemirror_mode": {
    "name": "ipython",
    "version": 3
   },
   "file_extension": ".py",
   "mimetype": "text/x-python",
   "name": "python",
   "nbconvert_exporter": "python",
   "pygments_lexer": "ipython3",
   "version": "3.6.9"
  },
  "varInspector": {
   "cols": {
    "lenName": 16,
    "lenType": 16,
    "lenVar": 40
   },
   "kernels_config": {
    "python": {
     "delete_cmd_postfix": "",
     "delete_cmd_prefix": "del ",
     "library": "var_list.py",
     "varRefreshCmd": "print(var_dic_list())"
    },
    "r": {
     "delete_cmd_postfix": ") ",
     "delete_cmd_prefix": "rm(",
     "library": "var_list.r",
     "varRefreshCmd": "cat(var_dic_list()) "
    }
   },
   "types_to_exclude": [
    "module",
    "function",
    "builtin_function_or_method",
    "instance",
    "_Feature"
   ],
   "window_display": false
  }
 },
 "nbformat": 4,
 "nbformat_minor": 2
}
